{
 "cells": [
  {
   "cell_type": "code",
   "execution_count": 3,
   "metadata": {},
   "outputs": [],
   "source": [
    "#Import pandas\n",
    "import pandas as pd"
   ]
  },
  {
   "cell_type": "code",
   "execution_count": 4,
   "metadata": {},
   "outputs": [],
   "source": [
    "def extract(df,Code_postal,Year) :\n",
    "  df= df.drop(['Code service sages','Reference document','1 Articles CGI','2 Articles CGI',\n",
    "                                      '3 Articles CGI','4 Articles CGI','5 Articles CGI','Identifiant local','No Volume','B/T/Q',\n",
    "                                      'Surface Carrez du 1er lot','2eme lot','Surface Carrez du 2eme lot','3eme lot',\n",
    "                                      'Surface Carrez du 3eme lot','4eme lot','Surface Carrez du 4eme lot','5eme lot',\n",
    "                                      'Surface Carrez du 5eme lot','Nature culture','Nature culture speciale','Surface terrain'], axis=1)\n",
    "  df = df[df['Code postal']==Code_postal]\n",
    "  df = df.assign(Year = Year)\n",
    "  return df\n"
   ]
  },
  {
   "cell_type": "code",
   "execution_count": 5,
   "metadata": {},
   "outputs": [
    {
     "name": "stderr",
     "output_type": "stream",
     "text": [
      "/tmp/ipykernel_1392/1877140685.py:1: DtypeWarning: Columns (18,23,24,26,28,31,33,41) have mixed types. Specify dtype option on import or set low_memory=False.\n",
      "  data_2022 = pd.read_csv('https://static.data.gouv.fr/resources/demandes-de-valeurs-foncieres/20221017-152027/valeursfoncieres-2022-s1.txt', sep=\"|\")\n"
     ]
    },
    {
     "ename": "",
     "evalue": "",
     "output_type": "error",
     "traceback": [
      "\u001b[1;31mCanceled future for execute_request message before replies were done"
     ]
    },
    {
     "ename": "",
     "evalue": "",
     "output_type": "error",
     "traceback": [
      "\u001b[1;31mThe Kernel crashed while executing code in the the current cell or a previous cell. Please review the code in the cell(s) to identify a possible cause of the failure. Click <a href='https://aka.ms/vscodeJupyterKernelCrash'>here</a> for more info. View Jupyter <a href='command:jupyter.viewOutput'>log</a> for further details."
     ]
    }
   ],
   "source": [
    "data_2022 = pd.read_csv('https://static.data.gouv.fr/resources/demandes-de-valeurs-foncieres/20221017-152027/valeursfoncieres-2022-s1.txt', sep=\"|\")\n",
    "data_2021 = pd.read_csv('https://static.data.gouv.fr/resources/demandes-de-valeurs-foncieres/20221017-151704/valeursfoncieres-2021.txt', sep=\"|\")\n",
    "data_2020 = pd.read_csv('https://static.data.gouv.fr/resources/demandes-de-valeurs-foncieres/20221017-151136/valeursfoncieres-2020.txt', sep=\"|\")\n",
    "data_2019 = pd.read_csv('https://static.data.gouv.fr/resources/demandes-de-valeurs-foncieres/20221017-151136/valeursfoncieres-2020.txt', sep=\"|\")\n",
    "data_2018 = pd.read_csv('https://static.data.gouv.fr/resources/demandes-de-valeurs-foncieres/20221017-151136/valeursfoncieres-2020.txt', sep=\"|\")\n"
   ]
  },
  {
   "cell_type": "code",
   "execution_count": null,
   "metadata": {},
   "outputs": [],
   "source": [
    "data_2022 = extract(data_2021,13100,2021)\n",
    "data_2021 = extract(data_2021,13100,2021)\n",
    "data_2020 = extract(data_2020,13100,2020)\n",
    "data_2019 = extract(data_2019,13100,2019)\n",
    "data_2018 = extract(data_2018,13100,2018)\n"
   ]
  },
  {
   "cell_type": "code",
   "execution_count": null,
   "metadata": {},
   "outputs": [],
   "source": [
    "df = pd.concat([data_2022,data_2021,data_2020,data_2019,data_2018])\n",
    "df.head()"
   ]
  },
  {
   "cell_type": "code",
   "execution_count": null,
   "metadata": {},
   "outputs": [],
   "source": [
    "df.shape()"
   ]
  },
  {
   "cell_type": "code",
   "execution_count": null,
   "metadata": {},
   "outputs": [],
   "source": [
    "df.to_csv('df_Aix-en-Provence_dvf.csv', index=False, sep=\"|\")"
   ]
  },
  {
   "cell_type": "code",
   "execution_count": null,
   "metadata": {},
   "outputs": [],
   "source": [
    "from google.colab import files\n",
    "files.download(\"df_Aix-en-Provence_dvf.csv\")"
   ]
  }
 ],
 "metadata": {
  "kernelspec": {
   "display_name": "Python 3",
   "language": "python",
   "name": "python3"
  },
  "language_info": {
   "codemirror_mode": {
    "name": "ipython",
    "version": 3
   },
   "file_extension": ".py",
   "mimetype": "text/x-python",
   "name": "python",
   "nbconvert_exporter": "python",
   "pygments_lexer": "ipython3",
   "version": "3.9.2 (default, Feb 28 2021, 17:03:44) \n[GCC 10.2.1 20210110]"
  },
  "orig_nbformat": 4,
  "vscode": {
   "interpreter": {
    "hash": "916dbcbb3f70747c44a77c7bcd40155683ae19c65e1c03b4aa3499c5328201f1"
   }
  }
 },
 "nbformat": 4,
 "nbformat_minor": 2
}
